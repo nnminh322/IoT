{
 "cells": [
  {
   "cell_type": "code",
   "execution_count": 2,
   "metadata": {},
   "outputs": [
    {
     "data": {
      "text/plain": [
       "'\\n    Dưới đây là một đoạn văn bản. Bạn hãy phân loại đoạn văn bản này vào một trong các nhiệm vụ IoT sau: \\n    1. Bật đèn\\n2. Tắt đèn\\n3. Kiểm tra trạng thái thiết bị\\n4. Chơi nhạc\\n5. Tăng âm lượng\\n6. Giảm âm lượng\\n7. Hỏi đáp\\n\\n\\n    Đoạn văn bản:\\n    \"âm lượng nhỏ quá\"\\n\\n    Dựa trên nội dung của đoạn văn bản, vui lòng trả lời nhiệm vụ IoT phù hợp nhất từ các lựa chọn trên. \\n    Chỉ trả lời một trong các nhiệm vụ đã được liệt kê, không thêm bất kỳ văn bản nào ngoài danh sách nhiệm vụ.\\n    '"
      ]
     },
     "execution_count": 2,
     "metadata": {},
     "output_type": "execute_result"
    }
   ],
   "source": [
    "from utils.get_prompt import generate_iot_prompt\n",
    "generate_iot_prompt('âm lượng nhỏ quá')"
   ]
  },
  {
   "cell_type": "code",
   "execution_count": 1,
   "metadata": {},
   "outputs": [
    {
     "name": "stdout",
     "output_type": "stream",
     "text": [
      "> 0 Micrô Ngoài, Core Audio (1 in, 0 out)\n",
      "< 1 Tai nghe ngoài, Core Audio (0 in, 2 out)\n",
      "  2 Micrô MacBook Air, Core Audio (1 in, 0 out)\n",
      "  3 Loa MacBook Air, Core Audio (0 in, 2 out)\n",
      "  4 Microsoft Teams Audio, Core Audio (1 in, 1 out)\n"
     ]
    }
   ],
   "source": [
    "import sounddevice as sd\n",
    "print(sd.query_devices())\n"
   ]
  },
  {
   "cell_type": "code",
   "execution_count": 2,
   "metadata": {},
   "outputs": [
    {
     "name": "stdout",
     "output_type": "stream",
     "text": [
      "> 0 Micrô Ngoài, Core Audio (1 in, 0 out)\n",
      "< 1 Tai nghe ngoài, Core Audio (0 in, 2 out)\n",
      "  2 Micrô MacBook Air, Core Audio (1 in, 0 out)\n",
      "  3 Loa MacBook Air, Core Audio (0 in, 2 out)\n",
      "  4 Microsoft Teams Audio, Core Audio (1 in, 1 out)\n"
     ]
    }
   ],
   "source": [
    "import sounddevice as sd\n",
    "print(sd.query_devices())\n"
   ]
  },
  {
   "cell_type": "code",
   "execution_count": 8,
   "metadata": {},
   "outputs": [],
   "source": [
    "import sounddevice as sd\n",
    "from scipy.io.wavfile import read\n",
    "\n",
    "# Đường dẫn đến file WAV\n",
    "file_path = \"recordings/20241227_121807.wav\"\n",
    "\n",
    "# Đọc file WAV\n",
    "sample_rate, data = read(file_path)\n",
    "\n",
    "# Phát âm thanh\n",
    "sd.play(data, sample_rate)\n",
    "\n",
    "# Đợi cho đến khi âm thanh phát xong\n",
    "sd.wait()\n"
   ]
  },
  {
   "cell_type": "code",
   "execution_count": 9,
   "metadata": {},
   "outputs": [],
   "source": [
    "import os\n",
    "dir = os.listdir('./data_demo')"
   ]
  },
  {
   "cell_type": "code",
   "execution_count": 10,
   "metadata": {},
   "outputs": [
    {
     "data": {
      "text/plain": [
       "['Increase.m4a',\n",
       " '.DS_Store',\n",
       " 'Decrease.m4a',\n",
       " 'Off_light.m4a',\n",
       " 'State_device.m4a',\n",
       " 'Play_music.m4a',\n",
       " 'On_light.m4a']"
      ]
     },
     "execution_count": 10,
     "metadata": {},
     "output_type": "execute_result"
    }
   ],
   "source": [
    "dir"
   ]
  },
  {
   "cell_type": "code",
   "execution_count": 14,
   "metadata": {},
   "outputs": [],
   "source": [
    "def increase_volume():\n",
    "    print('call to Increase Volume API of IoT device')\n",
    "    pass\n",
    "\n",
    "def decrease_volume():\n",
    "    print('call to Decrease Volume API of IoT device')\n",
    "    pass\n",
    "\n",
    "def turn_on_light():\n",
    "    print('call to Turn On Light API of IoT device')\n",
    "    pass\n",
    "\n",
    "def turn_off_light():\n",
    "    print('call to Turn Off Light API of IoT device')\n",
    "    pass\n",
    "\n",
    "def play_music():\n",
    "    print('call to Play Music API of IoT device')\n",
    "    pass\n",
    "\n",
    "def question_answering():\n",
    "    print('call to Question Answering API of IoT device')\n",
    "    pass\n",
    "\n",
    "def check_device_status():\n",
    "    print('call to Check Device Status API of IoT device')\n",
    "\n",
    "# Dictionary ánh xạ các ký tự vào hàm\n",
    "task_map = {\n",
    "    \"1\": turn_on_light,  # \"1\" tương ứng với hàm turn_on_light\n",
    "    \"2\": turn_off_light,  # \"2\" tương ứng với hàm turn_off_light\n",
    "    \"3\": check_device_status,  # \"3\" tương ứng với hàm check_device_status\n",
    "    \"4\": play_music,  # \"4\" tương ứng với hàm play_music\n",
    "    \"5\": increase_volume,  # \"5\" tương ứng với hàm increase_volume\n",
    "    \"6\": decrease_volume,  # \"6\" tương ứng với hàm decrease_volume\n",
    "    \"7\": question_answering  # \"7\" tương ứng với hàm question_answering\n",
    "}\n",
    "\n",
    "def IoT_task_call(task_char):\n",
    "    # Sử dụng dictionary để gọi hàm tương ứng với ký tự tác vụ\n",
    "    task_function = task_map.get(task_char)\n",
    "    \n",
    "    if task_function:\n",
    "        task_function()  # Gọi hàm tương ứng\n",
    "    else:\n",
    "        print(\"Task not recognized.\")\n",
    "\n"
   ]
  },
  {
   "cell_type": "code",
   "execution_count": 16,
   "metadata": {},
   "outputs": [
    {
     "name": "stdout",
     "output_type": "stream",
     "text": [
      "call to Turn On Light API of IoT device\n"
     ]
    }
   ],
   "source": [
    "IoT_task_call('1')"
   ]
  },
  {
   "cell_type": "code",
   "execution_count": 19,
   "metadata": {},
   "outputs": [
    {
     "name": "stdout",
     "output_type": "stream",
     "text": [
      "1\n"
     ]
    }
   ],
   "source": [
    "\n",
    "import re\n",
    "\n",
    "text = \"   1 \"\n",
    "result = ''.join(re.findall(r'\\d', text.strip()))\n",
    "\n",
    "\n",
    "print(result)"
   ]
  },
  {
   "cell_type": "code",
   "execution_count": null,
   "metadata": {},
   "outputs": [],
   "source": []
  }
 ],
 "metadata": {
  "kernelspec": {
   "display_name": "natmin",
   "language": "python",
   "name": "python3"
  },
  "language_info": {
   "codemirror_mode": {
    "name": "ipython",
    "version": 3
   },
   "file_extension": ".py",
   "mimetype": "text/x-python",
   "name": "python",
   "nbconvert_exporter": "python",
   "pygments_lexer": "ipython3",
   "version": "3.11.7"
  }
 },
 "nbformat": 4,
 "nbformat_minor": 2
}
