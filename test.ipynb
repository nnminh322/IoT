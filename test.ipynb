{
 "cells": [
  {
   "cell_type": "code",
   "execution_count": 2,
   "metadata": {},
   "outputs": [
    {
     "data": {
      "text/plain": [
       "'\\n    Dưới đây là một đoạn văn bản. Bạn hãy phân loại đoạn văn bản này vào một trong các nhiệm vụ IoT sau: \\n    1. Bật đèn\\n2. Tắt đèn\\n3. Kiểm tra trạng thái thiết bị\\n4. Chơi nhạc\\n5. Tăng âm lượng\\n6. Giảm âm lượng\\n7. Hỏi đáp\\n\\n\\n    Đoạn văn bản:\\n    \"âm lượng nhỏ quá\"\\n\\n    Dựa trên nội dung của đoạn văn bản, vui lòng trả lời nhiệm vụ IoT phù hợp nhất từ các lựa chọn trên. \\n    Chỉ trả lời một trong các nhiệm vụ đã được liệt kê, không thêm bất kỳ văn bản nào ngoài danh sách nhiệm vụ.\\n    '"
      ]
     },
     "execution_count": 2,
     "metadata": {},
     "output_type": "execute_result"
    }
   ],
   "source": [
    "from utils.get_prompt import generate_iot_prompt\n",
    "generate_iot_prompt('âm lượng nhỏ quá')"
   ]
  },
  {
   "cell_type": "code",
   "execution_count": 1,
   "metadata": {},
   "outputs": [
    {
     "name": "stdout",
     "output_type": "stream",
     "text": [
      "> 0 Micrô Ngoài, Core Audio (1 in, 0 out)\n",
      "< 1 Tai nghe ngoài, Core Audio (0 in, 2 out)\n",
      "  2 Micrô MacBook Air, Core Audio (1 in, 0 out)\n",
      "  3 Loa MacBook Air, Core Audio (0 in, 2 out)\n",
      "  4 Microsoft Teams Audio, Core Audio (1 in, 1 out)\n"
     ]
    }
   ],
   "source": [
    "import sounddevice as sd\n",
    "print(sd.query_devices())\n"
   ]
  },
  {
   "cell_type": "code",
   "execution_count": 2,
   "metadata": {},
   "outputs": [
    {
     "name": "stdout",
     "output_type": "stream",
     "text": [
      "> 0 Micrô Ngoài, Core Audio (1 in, 0 out)\n",
      "< 1 Tai nghe ngoài, Core Audio (0 in, 2 out)\n",
      "  2 Micrô MacBook Air, Core Audio (1 in, 0 out)\n",
      "  3 Loa MacBook Air, Core Audio (0 in, 2 out)\n",
      "  4 Microsoft Teams Audio, Core Audio (1 in, 1 out)\n"
     ]
    }
   ],
   "source": [
    "import sounddevice as sd\n",
    "print(sd.query_devices())\n"
   ]
  },
  {
   "cell_type": "code",
   "execution_count": null,
   "metadata": {},
   "outputs": [],
   "source": [
    "import sounddevice as sd\n",
    "from scipy.io.wavfile import read\n",
    "\n",
    "# Đường dẫn đến file WAV\n",
    "file_path = \"recordings/20241227_121807.wav\"\n",
    "\n",
    "# Đọc file WAV\n",
    "sample_rate, data = read(file_path)\n",
    "\n",
    "# Phát âm thanh\n",
    "sd.play(data, sample_rate)\n",
    "\n",
    "# Đợi cho đến khi âm thanh phát xong\n",
    "sd.wait()\n"
   ]
  },
  {
   "cell_type": "code",
   "execution_count": null,
   "metadata": {},
   "outputs": [],
   "source": []
  }
 ],
 "metadata": {
  "kernelspec": {
   "display_name": "natmin",
   "language": "python",
   "name": "python3"
  },
  "language_info": {
   "codemirror_mode": {
    "name": "ipython",
    "version": 3
   },
   "file_extension": ".py",
   "mimetype": "text/x-python",
   "name": "python",
   "nbconvert_exporter": "python",
   "pygments_lexer": "ipython3",
   "version": "3.11.7"
  }
 },
 "nbformat": 4,
 "nbformat_minor": 2
}
